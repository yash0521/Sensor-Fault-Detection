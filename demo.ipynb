{
 "cells": [
  {
   "cell_type": "code",
   "execution_count": null,
   "metadata": {},
   "outputs": [
    {
     "ename": "",
     "evalue": "",
     "output_type": "error",
     "traceback": [
      "\u001b[1;31mRunning cells with 'e:\\Sensor fault detection\\sensors-fault-detection\\venv\\python.exe' requires the ipykernel package.\n",
      "\u001b[1;31mRun the following command to install 'ipykernel' into the Python environment. \n",
      "\u001b[1;31mCommand: 'conda install -p e:\\Sensor fault detection\\sensors-fault-detection\\venv ipykernel --update-deps --force-reinstall'"
     ]
    }
   ],
   "source": [
    "from scipy.stats import ks_2samp"
   ]
  },
  {
   "cell_type": "code",
   "execution_count": 3,
   "metadata": {},
   "outputs": [],
   "source": [
    "from scipy.stats import ks_2samp"
   ]
  },
  {
   "cell_type": "code",
   "execution_count": 39,
   "metadata": {},
   "outputs": [],
   "source": [
    "import pandas as pd\n",
    "import numpy as np\n",
    "import os"
   ]
  },
  {
   "cell_type": "code",
   "execution_count": 14,
   "metadata": {},
   "outputs": [],
   "source": [
    "d1 = np.arange(100,200)\n",
    "d2 = np.arange(10)"
   ]
  },
  {
   "cell_type": "code",
   "execution_count": 11,
   "metadata": {},
   "outputs": [
    {
     "data": {
      "text/plain": [
       "array([ 0,  1,  2,  3,  4,  5,  6,  7,  8,  9, 10])"
      ]
     },
     "execution_count": 11,
     "metadata": {},
     "output_type": "execute_result"
    }
   ],
   "source": [
    "d1"
   ]
  },
  {
   "cell_type": "code",
   "execution_count": 12,
   "metadata": {},
   "outputs": [
    {
     "data": {
      "text/plain": [
       "array([0, 1, 2, 3, 4, 5, 6, 7, 8, 9])"
      ]
     },
     "execution_count": 12,
     "metadata": {},
     "output_type": "execute_result"
    }
   ],
   "source": [
    "d2"
   ]
  },
  {
   "cell_type": "code",
   "execution_count": 15,
   "metadata": {},
   "outputs": [
    {
     "data": {
      "text/plain": [
       "KstestResult(statistic=1.0, pvalue=4.2646072253826637e-14)"
      ]
     },
     "execution_count": 15,
     "metadata": {},
     "output_type": "execute_result"
    }
   ],
   "source": [
    "ks_2samp(d1,d2)"
   ]
  },
  {
   "cell_type": "code",
   "execution_count": 18,
   "metadata": {},
   "outputs": [],
   "source": [
    "train_file_path = \"E:/Sensor fault detection/sensors-fault-detection/artifact/07_10_2023_12_49_09/data_ingestion/ingested/train.csv\"\n",
    "test_file_path = \"E:/Sensor fault detection/sensors-fault-detection/artifact/07_10_2023_12_49_09/data_ingestion/ingested/test.csv\""
   ]
  },
  {
   "cell_type": "code",
   "execution_count": 21,
   "metadata": {},
   "outputs": [],
   "source": [
    "train_df = pd.read_csv(train_file_path)\n",
    "test_df = pd.read_csv(test_file_path)"
   ]
  },
  {
   "cell_type": "code",
   "execution_count": 22,
   "metadata": {},
   "outputs": [
    {
     "data": {
      "text/plain": [
       "Index(['class', 'aa_000', 'ab_000', 'ac_000', 'ad_000', 'ae_000', 'af_000',\n",
       "       'ag_000', 'ag_001', 'ag_002',\n",
       "       ...\n",
       "       'ee_002', 'ee_003', 'ee_004', 'ee_005', 'ee_006', 'ee_007', 'ee_008',\n",
       "       'ee_009', 'ef_000', 'eg_000'],\n",
       "      dtype='object', length=171)"
      ]
     },
     "execution_count": 22,
     "metadata": {},
     "output_type": "execute_result"
    }
   ],
   "source": [
    "train_df.columns"
   ]
  },
  {
   "cell_type": "code",
   "execution_count": 23,
   "metadata": {},
   "outputs": [],
   "source": [
    "d1 = train_df[\"aa_000\"]\n",
    "d2 = test_df[\"aa_000\"]"
   ]
  },
  {
   "cell_type": "code",
   "execution_count": 25,
   "metadata": {},
   "outputs": [],
   "source": [
    "d3 =ks_2samp(d1,d2)"
   ]
  },
  {
   "cell_type": "code",
   "execution_count": 27,
   "metadata": {},
   "outputs": [
    {
     "data": {
      "text/plain": [
       "0.9019780990848257"
      ]
     },
     "execution_count": 27,
     "metadata": {},
     "output_type": "execute_result"
    }
   ],
   "source": [
    "d3.pvalue"
   ]
  },
  {
   "cell_type": "code",
   "execution_count": 37,
   "metadata": {},
   "outputs": [],
   "source": [
    "from sensor.utills.main_utills import write_yaml_file"
   ]
  },
  {
   "cell_type": "code",
   "execution_count": 52,
   "metadata": {},
   "outputs": [],
   "source": [
    "def get_drift_report(base_df,current_df,thresold=0.05):\n",
    "    report={}\n",
    "    for column in base_df.columns:\n",
    "        d1 = base_df[column]\n",
    "        d2 = current_df[column]\n",
    "        is_same_dist = ks_2samp(d1,d2)\n",
    "        if is_same_dist.pvalue >= thresold:\n",
    "            is_found=False\n",
    "        else:\n",
    "            is_found=True\n",
    "        report.update({column:{\n",
    "            \"p_value\":float(is_same_dist.pvalue),\n",
    "            \"drift_status\":is_found\n",
    "            }})\n",
    "    return report\n"
   ]
  },
  {
   "cell_type": "code",
   "execution_count": 53,
   "metadata": {},
   "outputs": [],
   "source": [
    "drift_report= get_drift_report(train_df,test_df)"
   ]
  },
  {
   "cell_type": "code",
   "execution_count": 54,
   "metadata": {},
   "outputs": [
    {
     "data": {
      "text/plain": [
       "{'class': {'p_value': 1.0, 'drift_status': False},\n",
       " 'aa_000': {'p_value': 0.9019780990848257, 'drift_status': False},\n",
       " 'ab_000': {'p_value': 0.999999999999997, 'drift_status': False},\n",
       " 'ac_000': {'p_value': 0.9734108329658286, 'drift_status': False},\n",
       " 'ad_000': {'p_value': 0.9923896592863116, 'drift_status': False},\n",
       " 'ae_000': {'p_value': 0.9999999999999941, 'drift_status': False},\n",
       " 'af_000': {'p_value': 0.9999999999999863, 'drift_status': False},\n",
       " 'ag_000': {'p_value': 1.0, 'drift_status': False},\n",
       " 'ag_001': {'p_value': 0.9999999904046832, 'drift_status': False},\n",
       " 'ag_002': {'p_value': 0.9998045356810242, 'drift_status': False},\n",
       " 'ag_003': {'p_value': 0.8904158976792633, 'drift_status': False},\n",
       " 'ag_004': {'p_value': 0.8653427423822668, 'drift_status': False},\n",
       " 'ag_005': {'p_value': 0.5976516746339893, 'drift_status': False},\n",
       " 'ag_006': {'p_value': 0.4926704024897435, 'drift_status': False},\n",
       " 'ag_007': {'p_value': 0.8960021440781936, 'drift_status': False},\n",
       " 'ag_008': {'p_value': 0.699465426840427, 'drift_status': False},\n",
       " 'ag_009': {'p_value': 0.8589503912092371, 'drift_status': False},\n",
       " 'ah_000': {'p_value': 0.6818989242599987, 'drift_status': False},\n",
       " 'ai_000': {'p_value': 0.9999999999999999, 'drift_status': False},\n",
       " 'aj_000': {'p_value': 0.971307380211643, 'drift_status': False},\n",
       " 'ak_000': {'p_value': 1.0, 'drift_status': False},\n",
       " 'al_000': {'p_value': 0.9810056064355148, 'drift_status': False},\n",
       " 'am_0': {'p_value': 0.9333058062383589, 'drift_status': False},\n",
       " 'an_000': {'p_value': 0.6260143041181372, 'drift_status': False},\n",
       " 'ao_000': {'p_value': 0.5701678972103869, 'drift_status': False},\n",
       " 'ap_000': {'p_value': 0.6185186969723304, 'drift_status': False},\n",
       " 'aq_000': {'p_value': 0.8774624085143585, 'drift_status': False},\n",
       " 'ar_000': {'p_value': 1.0, 'drift_status': False},\n",
       " 'as_000': {'p_value': 1.0, 'drift_status': False},\n",
       " 'at_000': {'p_value': 0.9993222290484934, 'drift_status': False},\n",
       " 'au_000': {'p_value': 1.0, 'drift_status': False},\n",
       " 'av_000': {'p_value': 0.6901388692455174, 'drift_status': False},\n",
       " 'ax_000': {'p_value': 0.8448740771625188, 'drift_status': False},\n",
       " 'ay_000': {'p_value': 0.999999999955785, 'drift_status': False},\n",
       " 'ay_001': {'p_value': 0.9999999999998233, 'drift_status': False},\n",
       " 'ay_002': {'p_value': 0.9999999459724269, 'drift_status': False},\n",
       " 'ay_003': {'p_value': 0.9999999256947185, 'drift_status': False},\n",
       " 'ay_004': {'p_value': 0.9999166620178304, 'drift_status': False},\n",
       " 'ay_005': {'p_value': 0.8935757058603105, 'drift_status': False},\n",
       " 'ay_006': {'p_value': 0.7169902884619441, 'drift_status': False},\n",
       " 'ay_007': {'p_value': 0.8751913597042803, 'drift_status': False},\n",
       " 'ay_008': {'p_value': 0.20032295878120943, 'drift_status': False},\n",
       " 'ay_009': {'p_value': 0.9999175451286823, 'drift_status': False},\n",
       " 'az_000': {'p_value': 0.06796605577811077, 'drift_status': False},\n",
       " 'az_001': {'p_value': 0.8309293373536483, 'drift_status': False},\n",
       " 'az_002': {'p_value': 0.7922958445687869, 'drift_status': False},\n",
       " 'az_003': {'p_value': 0.7973158766212235, 'drift_status': False},\n",
       " 'az_004': {'p_value': 0.3894676906570441, 'drift_status': False},\n",
       " 'az_005': {'p_value': 0.5468230216302821, 'drift_status': False},\n",
       " 'az_006': {'p_value': 0.6843205580785268, 'drift_status': False},\n",
       " 'az_007': {'p_value': 0.9997805876628005, 'drift_status': False},\n",
       " 'az_008': {'p_value': 0.9777308248984496, 'drift_status': False},\n",
       " 'az_009': {'p_value': 0.9999993142113921, 'drift_status': False},\n",
       " 'ba_000': {'p_value': 0.5799625239928234, 'drift_status': False},\n",
       " 'ba_001': {'p_value': 0.8723691179694153, 'drift_status': False},\n",
       " 'ba_002': {'p_value': 0.6365027840214497, 'drift_status': False},\n",
       " 'ba_003': {'p_value': 0.8780219243069518, 'drift_status': False},\n",
       " 'ba_004': {'p_value': 0.6158113911511278, 'drift_status': False},\n",
       " 'ba_005': {'p_value': 0.24479666984632908, 'drift_status': False},\n",
       " 'ba_006': {'p_value': 0.5807032134720969, 'drift_status': False},\n",
       " 'ba_007': {'p_value': 0.9672683460785073, 'drift_status': False},\n",
       " 'ba_008': {'p_value': 0.5217071167707825, 'drift_status': False},\n",
       " 'ba_009': {'p_value': 0.9944241578209913, 'drift_status': False},\n",
       " 'bb_000': {'p_value': 0.6411203078039536, 'drift_status': False},\n",
       " 'bc_000': {'p_value': 0.7394286971099977, 'drift_status': False},\n",
       " 'bd_000': {'p_value': 0.8192488177786497, 'drift_status': False},\n",
       " 'be_000': {'p_value': 0.6014093551427049, 'drift_status': False},\n",
       " 'bf_000': {'p_value': 0.7269608283649487, 'drift_status': False},\n",
       " 'bg_000': {'p_value': 0.6555288640473413, 'drift_status': False},\n",
       " 'bh_000': {'p_value': 0.609633930604605, 'drift_status': False},\n",
       " 'bi_000': {'p_value': 0.8421478779205959, 'drift_status': False},\n",
       " 'bj_000': {'p_value': 0.6158358043156091, 'drift_status': False},\n",
       " 'bk_000': {'p_value': 0.24983148789095144, 'drift_status': False},\n",
       " 'bl_000': {'p_value': 0.25588342479671333, 'drift_status': False},\n",
       " 'bm_000': {'p_value': 0.9709441665184045, 'drift_status': False},\n",
       " 'bn_000': {'p_value': 0.998911666137358, 'drift_status': False},\n",
       " 'bo_000': {'p_value': 0.9264694700168443, 'drift_status': False},\n",
       " 'bp_000': {'p_value': 0.9484039755580264, 'drift_status': False},\n",
       " 'bq_000': {'p_value': 0.9886330120590284, 'drift_status': False},\n",
       " 'br_000': {'p_value': 0.994336854439151, 'drift_status': False},\n",
       " 'bs_000': {'p_value': 0.8220925775117427, 'drift_status': False},\n",
       " 'bt_000': {'p_value': 0.9094830158712489, 'drift_status': False},\n",
       " 'bu_000': {'p_value': 0.656207754437208, 'drift_status': False},\n",
       " 'bv_000': {'p_value': 0.656207754437208, 'drift_status': False},\n",
       " 'bx_000': {'p_value': 0.8961226060642293, 'drift_status': False},\n",
       " 'by_000': {'p_value': 0.829405969210364, 'drift_status': False},\n",
       " 'bz_000': {'p_value': 0.28595950542358617, 'drift_status': False},\n",
       " 'ca_000': {'p_value': 0.6792946931466658, 'drift_status': False},\n",
       " 'cb_000': {'p_value': 0.7786702847656155, 'drift_status': False},\n",
       " 'cc_000': {'p_value': 0.7080144545259106, 'drift_status': False},\n",
       " 'cd_000': {'p_value': 1.0, 'drift_status': False},\n",
       " 'ce_000': {'p_value': 0.30785894850185846, 'drift_status': False},\n",
       " 'cf_000': {'p_value': 0.9865736377794069, 'drift_status': False},\n",
       " 'cg_000': {'p_value': 0.606405480863506, 'drift_status': False},\n",
       " 'ch_000': {'p_value': 1.0, 'drift_status': False},\n",
       " 'ci_000': {'p_value': 0.8418390971933541, 'drift_status': False},\n",
       " 'cj_000': {'p_value': 0.9993986284224056, 'drift_status': False},\n",
       " 'ck_000': {'p_value': 0.3319563943743885, 'drift_status': False},\n",
       " 'cl_000': {'p_value': 0.7510506063284972, 'drift_status': False},\n",
       " 'cm_000': {'p_value': 0.3470636041818609, 'drift_status': False},\n",
       " 'cn_000': {'p_value': 0.9999987700217792, 'drift_status': False},\n",
       " 'cn_001': {'p_value': 0.9991724764343928, 'drift_status': False},\n",
       " 'cn_002': {'p_value': 0.7754414305093955, 'drift_status': False},\n",
       " 'cn_003': {'p_value': 0.9102749841716399, 'drift_status': False},\n",
       " 'cn_004': {'p_value': 0.7419636520246893, 'drift_status': False},\n",
       " 'cn_005': {'p_value': 0.7362430744427073, 'drift_status': False},\n",
       " 'cn_006': {'p_value': 0.5051971838379379, 'drift_status': False},\n",
       " 'cn_007': {'p_value': 0.4767688033487819, 'drift_status': False},\n",
       " 'cn_008': {'p_value': 0.7053389731436495, 'drift_status': False},\n",
       " 'cn_009': {'p_value': 0.5407844408275517, 'drift_status': False},\n",
       " 'co_000': {'p_value': 0.9999151649903443, 'drift_status': False},\n",
       " 'cp_000': {'p_value': 0.9722183828582824, 'drift_status': False},\n",
       " 'cq_000': {'p_value': 0.656207754437208, 'drift_status': False},\n",
       " 'cr_000': {'p_value': 1.0, 'drift_status': False},\n",
       " 'cs_000': {'p_value': 0.2882288576512808, 'drift_status': False},\n",
       " 'cs_001': {'p_value': 0.5712617101462172, 'drift_status': False},\n",
       " 'cs_002': {'p_value': 0.5600997836695933, 'drift_status': False},\n",
       " 'cs_003': {'p_value': 0.6449085236661163, 'drift_status': False},\n",
       " 'cs_004': {'p_value': 0.33862654918840795, 'drift_status': False},\n",
       " 'cs_005': {'p_value': 0.8681947967051405, 'drift_status': False},\n",
       " 'cs_006': {'p_value': 0.38107372545541773, 'drift_status': False},\n",
       " 'cs_007': {'p_value': 0.47511320421827063, 'drift_status': False},\n",
       " 'cs_008': {'p_value': 0.7571186877622572, 'drift_status': False},\n",
       " 'cs_009': {'p_value': 1.0, 'drift_status': False},\n",
       " 'ct_000': {'p_value': 0.9694345957768037, 'drift_status': False},\n",
       " 'cu_000': {'p_value': 0.7084021133875081, 'drift_status': False},\n",
       " 'cv_000': {'p_value': 0.6461557120036081, 'drift_status': False},\n",
       " 'cx_000': {'p_value': 0.6347552966748466, 'drift_status': False},\n",
       " 'cy_000': {'p_value': 0.9999213650205862, 'drift_status': False},\n",
       " 'cz_000': {'p_value': 0.4720938188319087, 'drift_status': False},\n",
       " 'da_000': {'p_value': 1.0, 'drift_status': False},\n",
       " 'db_000': {'p_value': 0.9999780725046677, 'drift_status': False},\n",
       " 'dc_000': {'p_value': 0.5062987240678833, 'drift_status': False},\n",
       " 'dd_000': {'p_value': 0.37688664939241856, 'drift_status': False},\n",
       " 'de_000': {'p_value': 0.40734406956476266, 'drift_status': False},\n",
       " 'df_000': {'p_value': 0.9999999999999899, 'drift_status': False},\n",
       " 'dg_000': {'p_value': 0.9999999999945093, 'drift_status': False},\n",
       " 'dh_000': {'p_value': 0.987308560251995, 'drift_status': False},\n",
       " 'di_000': {'p_value': 0.836827868755835, 'drift_status': False},\n",
       " 'dj_000': {'p_value': 1.0, 'drift_status': False},\n",
       " 'dk_000': {'p_value': 1.0, 'drift_status': False},\n",
       " 'dl_000': {'p_value': 1.0, 'drift_status': False},\n",
       " 'dm_000': {'p_value': 1.0, 'drift_status': False},\n",
       " 'dn_000': {'p_value': 0.6074457009047505, 'drift_status': False},\n",
       " 'do_000': {'p_value': 0.5844080252797408, 'drift_status': False},\n",
       " 'dp_000': {'p_value': 0.7491197320911023, 'drift_status': False},\n",
       " 'dq_000': {'p_value': 0.9952409983090141, 'drift_status': False},\n",
       " 'dr_000': {'p_value': 0.9971964303397786, 'drift_status': False},\n",
       " 'ds_000': {'p_value': 0.7776874838078783, 'drift_status': False},\n",
       " 'dt_000': {'p_value': 0.7531578145098545, 'drift_status': False},\n",
       " 'du_000': {'p_value': 0.43994365537688784, 'drift_status': False},\n",
       " 'dv_000': {'p_value': 0.3009694042033164, 'drift_status': False},\n",
       " 'dx_000': {'p_value': 0.9922448028655485, 'drift_status': False},\n",
       " 'dy_000': {'p_value': 0.9800633400012744, 'drift_status': False},\n",
       " 'dz_000': {'p_value': 1.0, 'drift_status': False},\n",
       " 'ea_000': {'p_value': 1.0, 'drift_status': False},\n",
       " 'eb_000': {'p_value': 0.8643662667341196, 'drift_status': False},\n",
       " 'ec_00': {'p_value': 0.32126958223114643, 'drift_status': False},\n",
       " 'ed_000': {'p_value': 0.22746820735168527, 'drift_status': False},\n",
       " 'ee_000': {'p_value': 0.342915203758806, 'drift_status': False},\n",
       " 'ee_001': {'p_value': 0.7318452820338783, 'drift_status': False},\n",
       " 'ee_002': {'p_value': 0.9048877004918547, 'drift_status': False},\n",
       " 'ee_003': {'p_value': 0.9909446654989502, 'drift_status': False},\n",
       " 'ee_004': {'p_value': 0.7615566950905985, 'drift_status': False},\n",
       " 'ee_005': {'p_value': 0.6019929926107848, 'drift_status': False},\n",
       " 'ee_006': {'p_value': 0.3241084595737387, 'drift_status': False},\n",
       " 'ee_007': {'p_value': 0.20330723668839723, 'drift_status': False},\n",
       " 'ee_008': {'p_value': 0.6005112908056389, 'drift_status': False},\n",
       " 'ee_009': {'p_value': 0.8783947580544038, 'drift_status': False},\n",
       " 'ef_000': {'p_value': 1.0, 'drift_status': False},\n",
       " 'eg_000': {'p_value': 1.0, 'drift_status': False}}"
      ]
     },
     "execution_count": 54,
     "metadata": {},
     "output_type": "execute_result"
    }
   ],
   "source": [
    "drift_report"
   ]
  },
  {
   "cell_type": "code",
   "execution_count": 50,
   "metadata": {},
   "outputs": [],
   "source": [
    "write_yaml_file(file_path=os.path.join(os.getcwd(),\"report.yaml\"),content=drift_report)"
   ]
  },
  {
   "cell_type": "code",
   "execution_count": null,
   "metadata": {},
   "outputs": [],
   "source": []
  }
 ],
 "metadata": {
  "kernelspec": {
   "display_name": "Python 3",
   "language": "python",
   "name": "python3"
  },
  "language_info": {
   "codemirror_mode": {
    "name": "ipython",
    "version": 3
   },
   "file_extension": ".py",
   "mimetype": "text/x-python",
   "name": "python",
   "nbconvert_exporter": "python",
   "pygments_lexer": "ipython3",
   "version": "3.9.13"
  },
  "orig_nbformat": 4
 },
 "nbformat": 4,
 "nbformat_minor": 2
}
